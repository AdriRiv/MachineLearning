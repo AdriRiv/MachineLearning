{
  "nbformat": 4,
  "nbformat_minor": 0,
  "metadata": {
    "colab": {
      "provenance": []
    },
    "kernelspec": {
      "name": "python3",
      "display_name": "Python 3"
    },
    "language_info": {
      "name": "python"
    }
  },
  "cells": [
    {
      "cell_type": "code",
      "execution_count": null,
      "metadata": {
        "id": "sDEci-jG932N"
      },
      "outputs": [],
      "source": [
        "import pandas as pd"
      ]
    },
    {
      "cell_type": "code",
      "source": [
        "dset= pd.read_csv(\"Social_Network_Ads.csv\")\n",
        "print(dset)"
      ],
      "metadata": {
        "colab": {
          "base_uri": "https://localhost:8080/"
        },
        "id": "KPLAnhC5-Btp",
        "outputId": "446c87b5-7492-4798-a6ea-2f030eb5a807"
      },
      "execution_count": null,
      "outputs": [
        {
          "output_type": "stream",
          "name": "stdout",
          "text": [
            "      User ID  Gender  Age  EstimatedSalary  Purchased\n",
            "0    15624510    Male   19            19000          0\n",
            "1    15810944    Male   35            20000          0\n",
            "2    15668575  Female   26            43000          0\n",
            "3    15603246  Female   27            57000          0\n",
            "4    15804002    Male   19            76000          0\n",
            "..        ...     ...  ...              ...        ...\n",
            "395  15691863  Female   46            41000          1\n",
            "396  15706071    Male   51            23000          1\n",
            "397  15654296  Female   50            20000          1\n",
            "398  15755018    Male   36            33000          0\n",
            "399  15594041  Female   49            36000          1\n",
            "\n",
            "[400 rows x 5 columns]\n"
          ]
        }
      ]
    },
    {
      "cell_type": "code",
      "source": [
        "dset= dset.drop(columns=\"User ID\")\n",
        "print(dset)"
      ],
      "metadata": {
        "colab": {
          "base_uri": "https://localhost:8080/"
        },
        "id": "IZXHIimKBjso",
        "outputId": "7fd542f4-4830-43e9-e164-bd2b3c00a3e9"
      },
      "execution_count": null,
      "outputs": [
        {
          "output_type": "stream",
          "name": "stdout",
          "text": [
            "     Gender  Age  EstimatedSalary  Purchased\n",
            "0      Male   19            19000          0\n",
            "1      Male   35            20000          0\n",
            "2    Female   26            43000          0\n",
            "3    Female   27            57000          0\n",
            "4      Male   19            76000          0\n",
            "..      ...  ...              ...        ...\n",
            "395  Female   46            41000          1\n",
            "396    Male   51            23000          1\n",
            "397  Female   50            20000          1\n",
            "398    Male   36            33000          0\n",
            "399  Female   49            36000          1\n",
            "\n",
            "[400 rows x 4 columns]\n"
          ]
        }
      ]
    },
    {
      "cell_type": "code",
      "source": [
        "dummy = {\n",
        "    'Gender': {\n",
        "        'sep': ';'\n",
        "    }}\n",
        "\n",
        "for column_name, dummy_data in dummy.items():\n",
        "\n",
        "    dummies = dset[column_name].str.get_dummies(sep=dummy_data['sep'])\n",
        "    dummies.columns = map(lambda col: f'{col}', dummies.columns)\n",
        "    dset = pd.concat([dummies, dset], axis=1)\n",
        "\n",
        "dset = dset.drop(columns = \"Gender\")\n",
        "\n",
        "print(dset)"
      ],
      "metadata": {
        "colab": {
          "base_uri": "https://localhost:8080/"
        },
        "id": "8HW6DyVDDpnI",
        "outputId": "f536a48a-0f03-4883-8360-8454e4ea21fb"
      },
      "execution_count": null,
      "outputs": [
        {
          "output_type": "stream",
          "name": "stdout",
          "text": [
            "     Female  Male  Age  EstimatedSalary  Purchased\n",
            "0         0     1   19            19000          0\n",
            "1         0     1   35            20000          0\n",
            "2         1     0   26            43000          0\n",
            "3         1     0   27            57000          0\n",
            "4         0     1   19            76000          0\n",
            "..      ...   ...  ...              ...        ...\n",
            "395       1     0   46            41000          1\n",
            "396       0     1   51            23000          1\n",
            "397       1     0   50            20000          1\n",
            "398       0     1   36            33000          0\n",
            "399       1     0   49            36000          1\n",
            "\n",
            "[400 rows x 5 columns]\n"
          ]
        }
      ]
    },
    {
      "cell_type": "code",
      "source": [
        "from sklearn.linear_model import Perceptron"
      ],
      "metadata": {
        "id": "vFKHOACHSGFO"
      },
      "execution_count": null,
      "outputs": []
    },
    {
      "cell_type": "code",
      "source": [
        "xtrain= dset.iloc[0:320, 0:4]\n",
        "ytrain= dset.iloc[:320, 4:]\n",
        "\n",
        "xtest= dset.iloc[320:401, :4]\n",
        "ytest= dset.iloc[320:401, 4:]"
      ],
      "metadata": {
        "id": "2Xeh-1wJSGVd"
      },
      "execution_count": null,
      "outputs": []
    },
    {
      "cell_type": "code",
      "source": [
        "clf = Perceptron(tol=1e-3, random_state=0)\n",
        "clf.fit(xtrain, ytrain)\n",
        "Perceptron()"
      ],
      "metadata": {
        "id": "3XTZYrt_PQeI"
      },
      "execution_count": null,
      "outputs": []
    },
    {
      "cell_type": "code",
      "source": [
        "clf.score(xtrain, ytrain)"
      ],
      "metadata": {
        "colab": {
          "base_uri": "https://localhost:8080/"
        },
        "id": "1GeEs4vLXYKe",
        "outputId": "d29f4ad4-4b48-4cdc-cd60-3c321db65ad0"
      },
      "execution_count": null,
      "outputs": [
        {
          "output_type": "execute_result",
          "data": {
            "text/plain": [
              "0.7125"
            ]
          },
          "metadata": {},
          "execution_count": 8
        }
      ]
    },
    {
      "cell_type": "code",
      "source": [
        "clf.score(xtest, ytest)"
      ],
      "metadata": {
        "colab": {
          "base_uri": "https://localhost:8080/"
        },
        "id": "TBafCGeQXVIB",
        "outputId": "ed1e12fc-0efd-4af6-ba4b-838365205cbd"
      },
      "execution_count": null,
      "outputs": [
        {
          "output_type": "execute_result",
          "data": {
            "text/plain": [
              "0.3625"
            ]
          },
          "metadata": {},
          "execution_count": 9
        }
      ]
    }
  ]
}